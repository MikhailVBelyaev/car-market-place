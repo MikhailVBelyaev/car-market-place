{
 "cells": [
  {
   "cell_type": "code",
   "execution_count": 0,
   "metadata": {
    "application/vnd.databricks.v1+cell": {
     "cellMetadata": {
      "byteLimit": 2048000,
      "rowLimit": 10000
     },
     "inputWidgets": {},
     "nuid": "ffb2d6ed-55b7-43fa-b340-32e5550d91c6",
     "showTitle": false,
     "tableResultSettingsMap": {},
     "title": ""
    }
   },
   "outputs": [
    {
     "output_type": "display_data",
     "data": {
      "application/vnd.jupyter.widget-view+json": {
       "model_id": "a242628f463e4bc595bfaaf1caac7900",
       "version_major": 2,
       "version_minor": 0
      },
      "text/plain": [
       "Uploading artifacts:   0%|          | 0/9 [00:00<?, ?it/s]"
      ]
     },
     "metadata": {},
     "output_type": "display_data"
    },
    {
     "output_type": "stream",
     "name": "stderr",
     "output_type": "stream",
     "text": [
      "/databricks/python/lib/python3.11/site-packages/mlflow/types/utils.py:394: UserWarning: Hint: Inferred schema contains integer column(s). Integer columns in Python cannot represent missing values. If your input data contains missing values at inference time, it will be encoded as floats and will cause a schema enforcement error. The best way to avoid this problem is to infer the model schema based on a realistic data sample (training dataset) that includes missing values. Alternatively, you can declare integer columns as doubles (float64) whenever these columns may have missing values. See `Handling Integers With Missing Values <https://www.mlflow.org/docs/latest/models.html#handling-integers-with-missing-values>`_ for more details.\n  warnings.warn(\n"
     ]
    },
    {
     "output_type": "display_data",
     "data": {
      "application/vnd.jupyter.widget-view+json": {
       "model_id": "563fccd7944f40a9a2f4cf17683d69ac",
       "version_major": 2,
       "version_minor": 0
      },
      "text/plain": [
       "Downloading artifacts:   0%|          | 0/1 [00:00<?, ?it/s]"
      ]
     },
     "metadata": {},
     "output_type": "display_data"
    },
    {
     "output_type": "display_data",
     "data": {
      "application/vnd.jupyter.widget-view+json": {
       "model_id": "61afd9c04a7b47b39acc790cc7985354",
       "version_major": 2,
       "version_minor": 0
      },
      "text/plain": [
       "Uploading artifacts:   0%|          | 0/11 [00:00<?, ?it/s]"
      ]
     },
     "metadata": {},
     "output_type": "display_data"
    },
    {
     "output_type": "stream",
     "name": "stderr",
     "output_type": "stream",
     "text": [
      "Registered model 'car_price_model' already exists. Creating a new version of this model...\n"
     ]
    },
    {
     "output_type": "display_data",
     "data": {
      "application/vnd.jupyter.widget-view+json": {
       "model_id": "fa1351bf0f8f4e4398c3f8ee3bf09441",
       "version_major": 2,
       "version_minor": 0
      },
      "text/plain": [
       "Uploading artifacts:   0%|          | 0/11 [00:00<?, ?it/s]"
      ]
     },
     "metadata": {},
     "output_type": "display_data"
    },
    {
     "output_type": "stream",
     "name": "stderr",
     "output_type": "stream",
     "text": [
      "Created version '2' of model 'databrick_test_1231.default.car_price_model'.\n"
     ]
    }
   ],
   "source": [
    "import pandas as pd\n",
    "from sklearn.ensemble import RandomForestRegressor\n",
    "import joblib\n",
    "import mlflow\n",
    "import mlflow.pyfunc\n",
    "import os\n",
    "\n",
    "# Load dataset\n",
    "df = pd.read_csv(\"/dbfs/FileStore/cars_latest.csv\")\n",
    "\n",
    "# Features and target\n",
    "X = df[[\"year\", \"mileage\"]]\n",
    "y = df[\"price\"]\n",
    "\n",
    "# Train model\n",
    "model = RandomForestRegressor()\n",
    "model.fit(X, y)\n",
    "\n",
    "# Save model locally\n",
    "model_path = \"car_price_model.pkl\"\n",
    "joblib.dump(model, model_path)\n",
    "\n",
    "# Define custom MLflow model\n",
    "class CarPriceModel(mlflow.pyfunc.PythonModel):\n",
    "    def load_context(self, context):\n",
    "        import joblib\n",
    "        # Load from artifact path, not local path\n",
    "        self.model = joblib.load(context.artifacts[\"model\"])\n",
    "\n",
    "    def predict(self, context, model_input):\n",
    "        return self.model.predict(model_input)\n",
    "\n",
    "# Log model and include the pickle file as artifact\n",
    "with mlflow.start_run():\n",
    "    mlflow.pyfunc.log_model(\n",
    "        artifact_path=\"car_price_model\",\n",
    "        python_model=CarPriceModel(),\n",
    "        artifacts={\"model\": model_path},  # <- attach it here\n",
    "        input_example=pd.DataFrame({\"year\": [2010], \"mileage\": [150000]}),\n",
    "        registered_model_name=\"car_price_model\"\n",
    "    )\n"
   ]
  },
  {
   "cell_type": "markdown",
   "metadata": {
    "application/vnd.databricks.v1+cell": {
     "cellMetadata": {},
     "inputWidgets": {},
     "nuid": "02a403af-9976-4dc1-9100-713777f41c9e",
     "showTitle": false,
     "tableResultSettingsMap": {},
     "title": ""
    }
   },
   "source": [
    "Load & Predict using MLflow Model"
   ]
  },
  {
   "cell_type": "code",
   "execution_count": 0,
   "metadata": {
    "application/vnd.databricks.v1+cell": {
     "cellMetadata": {
      "byteLimit": 2048000,
      "rowLimit": 10000
     },
     "inputWidgets": {},
     "nuid": "2f6e316b-fcd6-4310-893f-d8f6d43c65e2",
     "showTitle": false,
     "tableResultSettingsMap": {},
     "title": ""
    }
   },
   "outputs": [
    {
     "output_type": "display_data",
     "data": {
      "application/vnd.jupyter.widget-view+json": {
       "model_id": "630041edfc314c9e93adf7c996a0ed1a",
       "version_major": 2,
       "version_minor": 0
      },
      "text/plain": [
       "Downloading artifacts:   0%|          | 0/10 [00:00<?, ?it/s]"
      ]
     },
     "metadata": {},
     "output_type": "display_data"
    },
    {
     "output_type": "stream",
     "name": "stdout",
     "output_type": "stream",
     "text": [
      "[13015.25348214]\n"
     ]
    }
   ],
   "source": [
    "import mlflow.pyfunc\n",
    "import pandas as pd\n",
    "\n",
    "# Prepare test input\n",
    "input_df = pd.DataFrame({\"year\": [2019], \"mileage\": [10000]})\n",
    "\n",
    "# Load the registered model\n",
    "model_name = \"databrick_test_1231.default.car_price_model\"\n",
    "model = mlflow.pyfunc.load_model(model_uri=f\"models:/{model_name}/1\")\n",
    "\n",
    "# Predict\n",
    "predictions = model.predict(input_df)\n",
    "print(predictions)\n"
   ]
  }
 ],
 "metadata": {
  "application/vnd.databricks.v1+notebook": {
   "computePreferences": null,
   "dashboards": [],
   "environmentMetadata": null,
   "inputWidgetPreferences": null,
   "language": "python",
   "notebookMetadata": {
    "pythonIndentUnit": 4
   },
   "notebookName": "train_car_price_model",
   "widgets": {}
  },
  "language_info": {
   "name": "python"
  }
 },
 "nbformat": 4,
 "nbformat_minor": 0
}